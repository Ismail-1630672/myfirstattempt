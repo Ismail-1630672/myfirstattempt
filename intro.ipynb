{
 "cells": [
  {
   "cell_type": "code",
   "execution_count": null,
   "id": "fe3c90b4",
   "metadata": {},
   "outputs": [],
   "source": [
    "#Docker is a tool designed to make it easier for you to develop,deploy and run an application using containers.\n",
    "\n",
    "#A container is a lightweight, portable self-contained environment which contains your:\n",
    "\n",
    "#application code\n",
    "#dependencies and libraries\n",
    "#configurations\n",
    "#Basically everything you need to run your application\n",
    "\n",
    "#This way your application can be run on any machine without any issues and the development and deployment of your application is more efficient\n"
   ]
  },
  {
   "cell_type": "code",
   "execution_count": null,
   "id": "ccbe2bc6",
   "metadata": {},
   "outputs": [],
   "source": [
    "#Docker Image:\n",
    "\n",
    "#Our application has many dependencies, configs and libraries\n",
    "#in order to convert this application into a container we have to dockerize/containerize this application\n",
    "#this involves creating layers of images which are stacked for efficiency. Each layer represents a change such as installing a library or dependency etc\n",
    "#These layers form the image which acts as the blueprint or recipe of the container\n",
    "#The container is then the running version of that blueprint/recipe/image"
   ]
  },
  {
   "cell_type": "code",
   "execution_count": null,
   "id": "ff744fa6",
   "metadata": {},
   "outputs": [],
   "source": [
    "#Docker vs virtual machines\n",
    "\n",
    "#The main task of both docker and virtual machines is to perform virtualization\n",
    "#our operating system can be windows,linux or mac\n",
    "#for any operating system it is made up of:\n",
    "\n",
    "#hardware at the bottom\n",
    "#then above we have OS kernel which communicates with the hardware\n",
    "#above the os kernel we have the application layer\n",
    "\n",
    "#This is the case for both docker and virtual machines\n",
    "\n",
    "#Docker will be virtualizing the application layer, so the docker container will be communicating with the os kernel\n",
    "#for virtual machine the application layer and the os kernel will be virtualized so the os kernel will communicate with the hardware\n",
    "\n",
    "#Pros and cons:\n",
    "\n",
    "#For docker since we are just virtualizing the application layer, it will usually be smaller\n",
    "#wheras for virtual machines the size will be big as it virtualizes both the application and os kernel layer\n",
    "\n",
    "#Docker containers will start and run faster as it just has the application layer to virtualize\n",
    "#Virtual machines are comparatively slower as both the application layer and oskernel have to be virtualized\n",
    "\n",
    "#In terms of comtabibility we can install virtual machines on any operating system\n",
    "#But for docker we cannot install it on any operating system as there is likely to be compatibility issues, for example we cant install a docker on windows os to an os with linux it will have to be windows"
   ]
  },
  {
   "cell_type": "code",
   "execution_count": null,
   "id": "61e8de37",
   "metadata": {},
   "outputs": [],
   "source": [
    "#i am currently studying git"
   ]
  }
 ],
 "metadata": {
  "kernelspec": {
   "display_name": "Python 3",
   "language": "python",
   "name": "python3"
  },
  "language_info": {
   "name": "python",
   "version": "3.10.0"
  }
 },
 "nbformat": 4,
 "nbformat_minor": 5
}
