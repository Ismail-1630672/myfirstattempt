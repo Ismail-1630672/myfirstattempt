{
 "cells": [
  {
   "cell_type": "code",
   "execution_count": null,
   "id": "8e143d9e",
   "metadata": {},
   "outputs": [],
   "source": [
    "#hi my name is ismail"
   ]
  }
 ],
 "metadata": {
  "language_info": {
   "name": "python"
  }
 },
 "nbformat": 4,
 "nbformat_minor": 5
}
